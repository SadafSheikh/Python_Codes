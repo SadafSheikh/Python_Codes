{
 "cells": [
  {
   "cell_type": "code",
   "execution_count": 11,
   "id": "3ab49cf4",
   "metadata": {},
   "outputs": [],
   "source": [
    "# saving list in txt file"
   ]
  },
  {
   "cell_type": "code",
   "execution_count": 12,
   "id": "e29779d6",
   "metadata": {},
   "outputs": [
    {
     "name": "stdout",
     "output_type": "stream",
     "text": [
      "Enter your pets name : dog\n",
      "Enter your pets name : cat\n",
      "Enter your pets name : parrot\n",
      "Enter your pets name : hamster\n",
      "Enter your pets name : fish\n",
      "Enter your pets name : done\n"
     ]
    },
    {
     "data": {
      "text/plain": [
       "['dog', 'cat', 'parrot', 'hamster', 'fish']"
      ]
     },
     "execution_count": 12,
     "metadata": {},
     "output_type": "execute_result"
    }
   ],
   "source": [
    "pet = []\n",
    "flag = True\n",
    "\n",
    "while flag:\n",
    "    ui = input(\"Enter your pets name : \")\n",
    "    if ui == \"done\":\n",
    "        flag = False\n",
    "    else:\n",
    "        pet.append(ui)\n",
    "pet"
   ]
  },
  {
   "cell_type": "code",
   "execution_count": 4,
   "id": "185c8302",
   "metadata": {},
   "outputs": [
    {
     "data": {
      "text/plain": [
       "list"
      ]
     },
     "execution_count": 4,
     "metadata": {},
     "output_type": "execute_result"
    }
   ],
   "source": [
    "type(pet)"
   ]
  },
  {
   "cell_type": "code",
   "execution_count": 13,
   "id": "3f1192f9",
   "metadata": {},
   "outputs": [],
   "source": [
    "pet = str(pet)"
   ]
  },
  {
   "cell_type": "code",
   "execution_count": 14,
   "id": "b3f61fd6",
   "metadata": {},
   "outputs": [
    {
     "data": {
      "text/plain": [
       "str"
      ]
     },
     "execution_count": 14,
     "metadata": {},
     "output_type": "execute_result"
    }
   ],
   "source": [
    "type(pet)"
   ]
  },
  {
   "cell_type": "code",
   "execution_count": 15,
   "id": "f771bcd9",
   "metadata": {},
   "outputs": [],
   "source": [
    "file = open(\"file_1.txt\",\"w\")\n",
    "file.write(pet)\n",
    "file.close()"
   ]
  },
  {
   "cell_type": "code",
   "execution_count": null,
   "id": "84a7b81f",
   "metadata": {},
   "outputs": [],
   "source": []
  }
 ],
 "metadata": {
  "kernelspec": {
   "display_name": "Python 3",
   "language": "python",
   "name": "python3"
  },
  "language_info": {
   "codemirror_mode": {
    "name": "ipython",
    "version": 3
   },
   "file_extension": ".py",
   "mimetype": "text/x-python",
   "name": "python",
   "nbconvert_exporter": "python",
   "pygments_lexer": "ipython3",
   "version": "3.8.8"
  }
 },
 "nbformat": 4,
 "nbformat_minor": 5
}
